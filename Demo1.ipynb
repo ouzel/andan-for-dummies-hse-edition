{
 "cells": [
  {
   "cell_type": "markdown",
   "id": "9779d58f-2bfe-48cc-902b-7c9c3467099a",
   "metadata": {},
   "source": [
    "В этом задании предлагается изучить поведение диких и домашних кошек на основе нескольких характеристик. О кошках имеется некоторая базовая информация (type, group). У кошек были инструкторы. Инструктор обеспечивает кошку питанием, а некоторых кошек обучает проходить полосу препятствий (некоторых - не обучает). Результаты прохождения полосы препятствий оценивались независимо тремя судьями по стобалльной шкале.\n",
    "\n",
    "Описание столбцов:\n",
    "* type - тип кошки: дикая (wild) или домашняя (domestic)\n",
    "* group - закодированная возрастная группа кошки \n",
    "* education - уровень подготовки инструктора\n",
    "* meal - тип рациона кошки\n",
    "* preparation course - обучалась ли кошка прохождению полосы препятствий (проходила ли специальный курс)\n",
    "* score-1 - балл первого судьи за прохождение кошкой полосы препятствий\n",
    "* score-2 - балл второго судьи за прохождение кошкой полосы препятствий\n",
    "* score-3 - балл третьего судьи за прохождение кошкой полосы препятствий\n",
    "\n",
    "\n",
    "Считайте данные в два pandas dataframe: df_train и df_test."
   ]
  },
  {
   "cell_type": "markdown",
   "id": "fa79a572-ab27-4bec-b1c9-43a50be1fc40",
   "metadata": {},
   "source": [
    "#### Задание 1 (0.25 балла). Заполните пропуски в столбце уникальной категорией, если столбец с пропуском категориальный, и средним значением, если столбец числовой. Заполняйте одновременно и df_train, и df_test - одинаковым образом. В ответе укажите количество различных значений, потребовавшихся для заполнения пропусков (это равно количеству новых уникальных категорий плюс количество средних значений для заполнения пропусков в числовых столбцах)."
   ]
  },
  {
   "cell_type": "code",
   "execution_count": 1,
   "id": "f9fedac8-8055-4b3d-a064-33abef24187c",
   "metadata": {},
   "outputs": [],
   "source": [
    "import pandas as pd\n",
    "\n",
    "import warnings\n",
    "warnings.filterwarnings(\"ignore\")\n",
    "\n",
    "df_train = pd.read_csv('Data_train.csv')\n",
    "df_test = pd.read_csv('Data_test.csv')\n",
    "\n",
    "df_train.head()\n",
    "df_train.shape\n",
    "df_train.describe(include='object')\n",
    "df_train['group'].fillna('Unknown', inplace=True)"
   ]
  },
  {
   "cell_type": "markdown",
   "id": "1dacee6b-c866-43f2-a2c6-87d69867958f",
   "metadata": {},
   "source": [
    "#### Задание 2 (0.3 баллов). Кошка прошла полосу препятствий по мнению судьи, если он поставил ей больше 50 баллов. Кошка считается прошедшей полосу препятствий, если все судьи поставили ей больше 50 баллов. В df_train создайте колонку 'Pass' и запишите в неё 1, если кошка прошла полосу препятствий, и 0 иначе. В ответ запишите, сколько кошек из df_train не прошли полосу препятствий.\n",
    "\n",
    "#### В df_test от вас скрыта информация о судейских баллах, поэтому неизвестно, прошла кошка полосу препятствия или нет - это и надо будет предсказать в заданиях ниже."
   ]
  },
  {
   "cell_type": "code",
   "execution_count": 2,
   "id": "0e069f24-8ac9-4ca6-9f85-e45ca66e1abf",
   "metadata": {},
   "outputs": [
    {
     "data": {
      "text/plain": [
       "145"
      ]
     },
     "execution_count": 2,
     "metadata": {},
     "output_type": "execute_result"
    }
   ],
   "source": [
    "df_train['Pass'] = (df_train['score-1'] > 50) & (df_train['score-2'] > 50) & (df_train['score-3'] > 50)\n",
    "df_train['Pass'] = df_train['Pass'].astype(int)\n",
    "df_test['Pass'] = 0\n",
    "# print(df_train.Pass)\n",
    "len(df_train[df_train['Pass'] == 0])"
   ]
  },
  {
   "cell_type": "markdown",
   "id": "e30899be-acad-42e0-ad34-c72f4ccb67a2",
   "metadata": {},
   "source": [
    "#### Задание 3 (каждый пункт - 0.25 балла, 1.25 балла максимум).\n",
    "\n",
    "#### Это задание выполняйте по данным df_train.\n",
    "\n",
    "1) Среди всех диких кошек найдите долю кошек, прошедших полосу препятствий. Такую же долю рассчитайте для домашних кошек. В ответе укажите модуль разности этих долей. Ответ округлите до сотых.\n",
    "2) Сколько кошек среди не прошедших полосу препятствий имели инструктора с уровнем образования \"high school\"?\n",
    "3) Сколько диких кошек среди прошедших полосу препятствий не проходили специальный курс подготовки?\n",
    "4) Чему равна медиана баллов, выставленных первым судьей?\n",
    "5) Найдите межквартильный размах баллов третьего судьи (третья квартиль минус первая квартиль) для домашних кошек, не проходивших специальный курс подготовки.\n",
    "Комментарий: для вычисления квартилей дискретного распределения используйте интерполяцию меньшим значением (lower interpolation). Это означает, что если искомая квартиль лежит между двумя измерениями i и j, то значение квартили равно i.\n"
   ]
  },
  {
   "cell_type": "code",
   "execution_count": 3,
   "id": "af7bd12f-2945-4ba8-ae20-101652baee9b",
   "metadata": {},
   "outputs": [
    {
     "name": "stdout",
     "output_type": "stream",
     "text": [
      "type                  0.02258\n",
      "group                 0.02258\n",
      "education             0.02258\n",
      "meal                  0.02258\n",
      "preparation course    0.02258\n",
      "score-1               0.02258\n",
      "score-2               0.02258\n",
      "score-3               0.02258\n",
      "Pass                  0.02258\n",
      "dtype: float64\n",
      "35\n",
      "152\n",
      "66.0\n",
      "20\n"
     ]
    }
   ],
   "source": [
    "# Перевод значений 'preparation course' в числовые\n",
    "df_train['preparation course'] = df_train['preparation course'].apply(lambda x: 1 if x == 'completed' else 0)\n",
    "\n",
    "# Доля диких и домашних кошек, прошедших полосу препятствий\n",
    "wild_course_passed = df_train[(df_train['type'] == 'wild') & (df_train['Pass'] == 1)].count() / df_train[df_train['type'] == 'wild'].count()\n",
    "domestic_course_passed = df_train[df_train['type'] == 'domestic']['Pass'].mean()\n",
    "\n",
    "# Модуль разности долей\n",
    "diff = abs(wild_course_passed - domestic_course_passed)\n",
    "print(diff)\n",
    "\n",
    "# Количество кошек среди не прошедших полосу препятствий с инструктором уровня \"high school\"\n",
    "no_course_high_school = df_train[(df_train['Pass'] == 0) & (df_train['education'] == 'high school')]\n",
    "print(len(no_course_high_school))\n",
    "\n",
    "# Количество диких кошек среди прошедших полосу препятствий, не проходивших специальный курс\n",
    "wild_passed_no_preparation = df_train[(df_train['type'] == 'wild') & (df_train['preparation course'] == 0) & (df_train['Pass'] == 1)]\n",
    "print(len(wild_passed_no_preparation))\n",
    "\n",
    "# Медиана баллов первого судьи\n",
    "median_score_1 = df_train['score-1'].median()\n",
    "print(median_score_1)\n",
    "\n",
    "# Межквартильный размах баллов третьего судьи для домашних кошек, не проходивших специальный курс подготовки\n",
    "domestic_no_course = df_train[(df_train['type'] == 'domestic') & (df_train['preparation course'] == 0)]\n",
    "q3 = domestic_no_course['score-3'].quantile(0.75, interpolation='lower')\n",
    "q1 = domestic_no_course['score-3'].quantile(0.25, interpolation='lower')\n",
    "iqr = q3 - q1\n",
    "print(iqr)\n"
   ]
  },
  {
   "cell_type": "markdown",
   "id": "762803d1-0ca1-4b71-a282-9e998ad58861",
   "metadata": {},
   "source": [
    "#### Задание 4 (0.7 баллов). \n",
    "\n",
    "#### a) (0.3 баллa). Далее используйте только категориальные столбцы. Закодируйте их с помощью One-hot encoding с учетом того, что мы не хотим получить мультиколлинеарности в новых данных. Сколько получилось числовых столбцов из исходных категориальных? Кодируйте и df_train, и df_test.\n",
    "\n",
    "#### б) (0.4 балла). Попытаемся по характеристикам кошки (бывшие категориальные, а теперь - числовые столбцы) предсказать, прошла она полосу препятствий или нет.\n",
    "#### Сформируйте из df_train матрицу объект-признак X и вектор ответов y. \n",
    "#### Обучите решающее дерево (DecisionTreeClassifier из библиотеки sklearn.tree) глубины 5 с энтропийным критерием информативности на закодированных в пункте а) тренировочных данных по кросс-валидации с тремя фолдами, метрика качества - roc-auc.\n",
    "#### Чему равен roc-auc, усредненный по фолдам? Ответ округлите до десятых.\n",
    "#### Комментарий: остальные гиперпараметры дерева оставьте дефолтными (splitter='best', min_samples_split=2, min_samples_leaf=1, min_weight_fraction_leaf=0.0, max_features=None, random_state=None, max_leaf_nodes=None, min_impurity_decrease=0.0, min_impurity_split=None, class_weight=None, ccp_alpha=0.0)"
   ]
  },
  {
   "cell_type": "code",
   "execution_count": 6,
   "id": "bf9b4148-1140-48fa-b590-afb950e49db1",
   "metadata": {},
   "outputs": [
    {
     "name": "stdout",
     "output_type": "stream",
     "text": [
      "145\n",
      "13\n",
      "0.9965986394557823\n"
     ]
    }
   ],
   "source": [
    "import pandas as pd\n",
    "from sklearn.preprocessing import OneHotEncoder\n",
    "from sklearn.model_selection import cross_val_score\n",
    "from sklearn.tree import DecisionTreeClassifier\n",
    "\n",
    "# Загрузка данных\n",
    "df_train = pd.read_csv('Data_train.csv')\n",
    "df_test = pd.read_csv('Data_test.csv')\n",
    "\n",
    "# Создание столбца 'Pass' в df_train\n",
    "df_train['Pass'] = ((df_train['score-1'] > 50) & \n",
    "                    (df_train['score-2'] > 50) & \n",
    "                    (df_train['score-3'] > 50)).astype(int)\n",
    "\n",
    "# Сколько кошек не прошли полосу препятствий\n",
    "not_passed_count = (df_train['Pass'] == 0).sum()\n",
    "print(not_passed_count)\n",
    "\n",
    "# a) One-hot encoding для категориальных столбцов\n",
    "categorical_columns = ['type', 'group', 'education', 'meal', 'preparation course']\n",
    "encoder = OneHotEncoder(drop='first', sparse_output=False)\n",
    "\n",
    "# Применение One-hot encoding к df_train и df_test\n",
    "encoded_train = encoder.fit_transform(df_train[categorical_columns])\n",
    "encoded_test = encoder.transform(df_test[categorical_columns])\n",
    "\n",
    "# Количество новых числовых столбцов\n",
    "n_new_columns = encoded_train.shape[1]\n",
    "print(n_new_columns)\n",
    "\n",
    "# Создание DataFrame из закодированных данных с корректными именами столбцов\n",
    "encoded_train_df = pd.DataFrame(encoded_train, index=df_train.index, columns=encoder.get_feature_names_out(categorical_columns))\n",
    "encoded_test_df = pd.DataFrame(encoded_test, index=df_test.index, columns=encoder.get_feature_names_out(categorical_columns))\n",
    "\n",
    "# Замена категориальных столбцов на закодированные в исходных DataFrame\n",
    "df_train_encoded = pd.concat([df_train.drop(columns=categorical_columns), encoded_train_df], axis=1)\n",
    "df_test_encoded = pd.concat([df_test.drop(columns=categorical_columns), encoded_test_df], axis=1)\n",
    "\n",
    "# Преобразование всех имен столбцов в строки\n",
    "df_train_encoded.columns = df_train_encoded.columns.astype(str)\n",
    "df_test_encoded.columns = df_test_encoded.columns.astype(str)\n",
    "\n",
    "# б) Обучение решающего дерева\n",
    "X = df_train_encoded.drop(columns='Pass')\n",
    "y = df_train_encoded['Pass']\n",
    "\n",
    "clf = DecisionTreeClassifier(criterion='entropy', max_depth=5)\n",
    "scores = cross_val_score(clf, X, y, cv=3, scoring='roc_auc')\n",
    "\n",
    "# Усредненный roc-auc по фолдам\n",
    "mean_roc_auc = scores.mean()\n",
    "print(mean_roc_auc)\n"
   ]
  },
  {
   "cell_type": "markdown",
   "id": "98d3f91c-ce36-489d-9181-17eefd212d46",
   "metadata": {},
   "source": [
    "#### Задание 6 (1.5 балла максимум). \n",
    "\n",
    "#### a) (0.25 балла). Подберите глубину решающего дерева (max_depth), перебирая глубину от 2 до 20 с шагом 1 и используя перебор по сетке (GridSearchCV из библиотеки sklearn.model_selection) с тремя фолдами и метрикой качества - roc-auc. В ответ запишите наилучшее среди искомых значение max_depth.\n",
    "\n",
    "#### Комментарий: остальные гиперпараметры дерева оставьте дефолтными (splitter='best', min_samples_split=2, min_samples_leaf=1, min_weight_fraction_leaf=0.0, max_features=None, random_state=None, max_leaf_nodes=None, min_impurity_decrease=0.0, min_impurity_split=None, class_weight=None, ccp_alpha=0.0)\n",
    "\n",
    "#### б) (0.5 балла). Добавьте к данным новый признак cat_bio, содержащий в качестве значений пары значений из столбца type и столбца group. Например, если кошка имеет type='wild' и  group='group B', то в cat_bio будет стоять строка '(wild, group B)'. Примените OneHotEncoding (с учетом того, что мы не хотим получить мультиколлинеарности в новых данных) к столбцам 'cat_bio', 'education', 'meal', 'preparation course', а затем обучите решающее дерево глубины 5 с энтропийным критерием информативности на полученных после кодирования данных. Чему равен roc-auc? Ответ округлите до сотых.\n",
    "\n",
    "#### Комментарий: остальные гиперпараметры дерева оставьте дефолтными (splitter='best', min_samples_split=2, min_samples_leaf=1, min_weight_fraction_leaf=0.0, max_features=None, random_state=None, max_leaf_nodes=None, min_impurity_decrease=0.0, min_impurity_split=None, class_weight=None, ccp_alpha=0.0)"
   ]
  },
  {
   "cell_type": "code",
   "execution_count": 7,
   "id": "4ca222f9-f738-4cbb-b993-9e153947b00b",
   "metadata": {},
   "outputs": [
    {
     "name": "stdout",
     "output_type": "stream",
     "text": [
      "4\n"
     ]
    }
   ],
   "source": [
    "import pandas as pd\n",
    "from sklearn.preprocessing import OneHotEncoder\n",
    "from sklearn.model_selection import GridSearchCV, cross_val_score\n",
    "from sklearn.tree import DecisionTreeClassifier\n",
    "\n",
    "# Загрузка данных\n",
    "df_train = pd.read_csv('Data_train.csv')\n",
    "df_test = pd.read_csv('Data_test.csv')\n",
    "\n",
    "# Создание столбца 'Pass' в df_train\n",
    "df_train['Pass'] = ((df_train['score-1'] > 50) & \n",
    "                    (df_train['score-2'] > 50) & \n",
    "                    (df_train['score-3'] > 50)).astype(int)\n",
    "\n",
    "# One-hot encoding для категориальных столбцов\n",
    "categorical_columns = ['type', 'group', 'education', 'meal', 'preparation course']\n",
    "encoder = OneHotEncoder(drop='first', sparse_output=False)\n",
    "\n",
    "# Применение One-hot encoding к df_train и df_test\n",
    "encoded_train = encoder.fit_transform(df_train[categorical_columns])\n",
    "encoded_test = encoder.transform(df_test[categorical_columns])\n",
    "\n",
    "# Создание DataFrame из закодированных данных с корректными именами столбцов\n",
    "encoded_train_df = pd.DataFrame(encoded_train, index=df_train.index, columns=encoder.get_feature_names_out(categorical_columns))\n",
    "encoded_test_df = pd.DataFrame(encoded_test, index=df_test.index, columns=encoder.get_feature_names_out(categorical_columns))\n",
    "\n",
    "# Замена категориальных столбцов на закодированные в исходных DataFrame\n",
    "df_train_encoded = pd.concat([df_train.drop(columns=categorical_columns), encoded_train_df], axis=1)\n",
    "df_test_encoded = pd.concat([df_test.drop(columns=categorical_columns), encoded_test_df], axis=1)\n",
    "\n",
    "# Преобразование всех имен столбцов в строки\n",
    "df_train_encoded.columns = df_train_encoded.columns.astype(str)\n",
    "df_test_encoded.columns = df_test_encoded.columns.astype(str)\n",
    "\n",
    "# Подбор max_depth с помощью GridSearchCV\n",
    "X = df_train_encoded.drop(columns='Pass')\n",
    "y = df_train_encoded['Pass']\n",
    "\n",
    "param_grid = {'max_depth': range(2, 21)}\n",
    "clf = DecisionTreeClassifier(criterion='entropy')\n",
    "grid_search = GridSearchCV(clf, param_grid, cv=3, scoring='roc_auc')\n",
    "grid_search.fit(X, y)\n",
    "\n",
    "best_max_depth = grid_search.best_params_['max_depth']\n",
    "print(best_max_depth)\n"
   ]
  },
  {
   "cell_type": "code",
   "execution_count": 10,
   "id": "1d3f8f1b-8531-4a5d-b766-5d815ef2c328",
   "metadata": {},
   "outputs": [
    {
     "name": "stdout",
     "output_type": "stream",
     "text": [
      "0.9965986394557823\n"
     ]
    }
   ],
   "source": [
    "# Добавление нового признака cat_bio\n",
    "df_train['cat_bio'] = df_train.apply(lambda row: f\"({row['type']}, {row['group']})\", axis=1)\n",
    "df_test['cat_bio'] = df_test.apply(lambda row: f\"({row['type']}, {row['group']})\", axis=1)\n",
    "\n",
    "# One-hot encoding для новых категориальных столбцов\n",
    "categorical_columns_new = ['cat_bio', 'type', 'group', 'education', 'meal', 'preparation course']\n",
    "encoder_new = OneHotEncoder(drop='first', sparse_output=False)\n",
    "\n",
    "# Применение One-hot encoding к новым категориальным столбцам\n",
    "encoded_train_new = encoder_new.fit_transform(df_train[categorical_columns_new])\n",
    "encoded_test_new = encoder_new.transform(df_test[categorical_columns_new])\n",
    "\n",
    "# Создание DataFrame из закодированных данных с корректными именами столбцов\n",
    "encoded_train_df_new = pd.DataFrame(encoded_train_new, index=df_train.index, columns=encoder_new.get_feature_names_out(categorical_columns_new))\n",
    "encoded_test_df_new = pd.DataFrame(encoded_test_new, index=df_test.index, columns=encoder_new.get_feature_names_out(categorical_columns_new))\n",
    "\n",
    "# Замена новых категориальных столбцов на закодированные в исходных DataFrame\n",
    "df_train_encoded_new = pd.concat([df_train.drop(columns=categorical_columns_new), encoded_train_df_new], axis=1)\n",
    "df_test_encoded_new = pd.concat([df_test.drop(columns=categorical_columns_new), encoded_test_df_new], axis=1)\n",
    "\n",
    "# Преобразование всех имен столбцов в строки\n",
    "df_train_encoded_new.columns = df_train_encoded_new.columns.astype(str)\n",
    "df_test_encoded_new.columns = df_test_encoded_new.columns.astype(str)\n",
    "\n",
    "# Обучение решающего дерева на новых данных\n",
    "X_new = df_train_encoded_new.drop(columns='Pass')\n",
    "y_new = df_train_encoded_new['Pass']\n",
    "\n",
    "clf_new = DecisionTreeClassifier(criterion='entropy', max_depth=5)\n",
    "scores_new = cross_val_score(clf_new, X_new, y_new, cv=3, scoring='roc_auc')\n",
    "\n",
    "# Усредненный roc-auc по фолдам\n",
    "mean_roc_auc_new = scores_new.mean()\n",
    "print(mean_roc_auc_new)\n"
   ]
  },
  {
   "cell_type": "markdown",
   "id": "e4605364-a634-49a5-96e2-19534ffa02e3",
   "metadata": {},
   "source": [
    "#### в) (0.75 балла). Теперь вы можете использовать любую модель машинного обучения для решения задачи. Также можете делать любую другую обработку признаков. Ваша задача - получить наилучшее качество (ROC_AUC).\n",
    "\n",
    "#### Качество проверяется на тестовых данных.\n",
    "\n",
    "#### ROC_AUC > 0.7 - 0.25 балла\n",
    "#### ROC_AUC > 0.74 - 0.75 балла\n",
    "#### Сдайте файл result.txt: в файле должна одна колонка с предсказанными значениями целевой переменной для тестовой выборки, без индекса и заголовка.\n",
    "#### Во вложении пример файла для отправки результатов."
   ]
  },
  {
   "cell_type": "code",
   "execution_count": 18,
   "id": "872b3582-4d72-4e7a-8837-7e1356ae82c9",
   "metadata": {},
   "outputs": [
    {
     "name": "stdout",
     "output_type": "stream",
     "text": [
      "0:\ttest: 0.6392897\tbest: 0.6392897 (0)\ttotal: 13.5ms\tremaining: 13.5s\n",
      "200:\ttest: 0.7358491\tbest: 0.7577691 (61)\ttotal: 3.18s\tremaining: 12.6s\n",
      "400:\ttest: 0.7408435\tbest: 0.7577691 (61)\ttotal: 6.47s\tremaining: 9.67s\n",
      "600:\ttest: 0.7555494\tbest: 0.7597114 (560)\ttotal: 9.55s\tremaining: 6.34s\n",
      "800:\ttest: 0.7583241\tbest: 0.7616537 (697)\ttotal: 12.7s\tremaining: 3.16s\n",
      "999:\ttest: 0.7574917\tbest: 0.7616537 (697)\ttotal: 15.8s\tremaining: 0us\n",
      "\n",
      "bestTest = 0.7616537181\n",
      "bestIteration = 697\n",
      "\n",
      "Shrink model to first 698 iterations.\n",
      "ROC_AUC на валидационной выборке: 0.76\n"
     ]
    }
   ],
   "source": [
    "import pandas as pd\n",
    "from catboost import CatBoostClassifier\n",
    "from sklearn.model_selection import train_test_split\n",
    "from sklearn.metrics import roc_auc_score\n",
    "\n",
    "# Загрузка данных\n",
    "df_train = pd.read_csv('Data_train.csv')\n",
    "df_test = pd.read_csv('Data_test.csv')\n",
    "\n",
    "# Создание столбца 'Pass' в df_train\n",
    "df_train['Pass'] = ((df_train['score-1'] > 50) & \n",
    "                    (df_train['score-2'] > 50) & \n",
    "                    (df_train['score-3'] > 50)).astype(int)\n",
    "\n",
    "# Добавление нового признака cat_bio\n",
    "df_train['cat_bio'] = df_train.apply(lambda row: f\"({row['type']}, {row['group']})\", axis=1)\n",
    "df_test['cat_bio'] = df_test.apply(lambda row: f\"({row['type']}, {row['group']})\", axis=1)\n",
    "\n",
    "# Заполнение NaN значений в категориальных признаках\n",
    "categorical_columns = ['cat_bio', 'type', 'group', 'education', 'meal', 'preparation course']\n",
    "for col in categorical_columns:\n",
    "    df_train[col].fillna('unknown', inplace=True)\n",
    "    df_test[col].fillna('unknown', inplace=True)\n",
    "\n",
    "# Подготовка данных для обучения модели\n",
    "X = df_train.drop(columns=['score-1', 'score-2', 'score-3', 'Pass'])\n",
    "y = df_train['Pass']\n",
    "\n",
    "# Разделение данных на тренировочную и валидационную выборки\n",
    "X_train, X_val, y_train, y_val = train_test_split(X, y, test_size=0.2, random_state=42)\n",
    "\n",
    "# Обучение модели CatBoostClassifier\n",
    "clf = CatBoostClassifier(depth=5, iterations=1000, learning_rate=0.1, eval_metric='AUC', verbose=200)\n",
    "clf.fit(X_train, y_train, cat_features=categorical_columns, eval_set=(X_val, y_val))\n",
    "\n",
    "# Оценка ROC_AUC на валидационной выборке\n",
    "y_val_pred = clf.predict_proba(X_val)[:, 1]\n",
    "roc_auc = roc_auc_score(y_val, y_val_pred)\n",
    "print(f\"ROC_AUC на валидационной выборке: {roc_auc:.2f}\")\n",
    "\n",
    "# Предсказание на тестовых данных\n",
    "X_test = df_test.drop(columns=['score-1', 'score-2', 'score-3'], errors='ignore')\n",
    "y_test_pred = clf.predict_proba(X_test)[:, 1]\n",
    "\n",
    "# Сохранение предсказаний в файл result.txt\n",
    "pd.Series(y_test_pred).to_csv('result.txt', index=False, header=False)\n"
   ]
  },
  {
   "cell_type": "code",
   "execution_count": null,
   "id": "93cbb82d-9e51-4e80-9e4a-85512c4c53fd",
   "metadata": {},
   "outputs": [],
   "source": []
  }
 ],
 "metadata": {
  "kernelspec": {
   "display_name": "Python 3 (ipykernel)",
   "language": "python",
   "name": "python3"
  },
  "language_info": {
   "codemirror_mode": {
    "name": "ipython",
    "version": 3
   },
   "file_extension": ".py",
   "mimetype": "text/x-python",
   "name": "python",
   "nbconvert_exporter": "python",
   "pygments_lexer": "ipython3",
   "version": "3.12.4"
  }
 },
 "nbformat": 4,
 "nbformat_minor": 5
}
